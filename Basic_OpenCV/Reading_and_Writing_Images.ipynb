{
 "cells": [
  {
   "cell_type": "markdown",
   "metadata": {},
   "source": [
    "# <font color = \"Red\"> Reading and Writing Images using OpenCV </font> <font color = \"Greenn\"> *By Harshit Dawar* </font>"
   ]
  },
  {
   "cell_type": "markdown",
   "metadata": {},
   "source": [
    "## Importing Required Libraries"
   ]
  },
  {
   "cell_type": "code",
   "execution_count": 1,
   "metadata": {},
   "outputs": [],
   "source": [
    "# To use OpenCV (OpenCV is imported as cv2)\n",
    "import cv2 "
   ]
  },
  {
   "cell_type": "markdown",
   "metadata": {},
   "source": [
    "## Actual Processing Begins!"
   ]
  },
  {
   "cell_type": "code",
   "execution_count": 4,
   "metadata": {},
   "outputs": [],
   "source": [
    "# Reading a Image through OpenCV \"imread\" function and stored it in variable named \"pic\".\n",
    "pic = cv2.imread(\"image1.png\")\n",
    "\n",
    "# Using \"imshow\" funciton of OpenCV to show the image\n",
    "# Wallpaper is just an alias name given to the Image object, It is neccessary to give the name.\n",
    "cv2.imshow(\"wallpaper\",pic)\n",
    "\n",
    "# \"waitKey\" funciton will wait for the number of seconds passed as argument to it for closing the Image Window.\n",
    "cv2.waitKey(1)\n",
    "\n",
    "# \"destroyAllWindows\" will close all windows which are open, \n",
    "# if we do not use this function then our program might hang.\n",
    "cv2.destroyAllWindows()"
   ]
  },
  {
   "cell_type": "code",
   "execution_count": 7,
   "metadata": {},
   "outputs": [
    {
     "name": "stdout",
     "output_type": "stream",
     "text": [
      "(190, 265, 3)\n"
     ]
    }
   ],
   "source": [
    "# To display the size of the Image\n",
    "print(pic.shape)"
   ]
  },
  {
   "cell_type": "code",
   "execution_count": 11,
   "metadata": {},
   "outputs": [
    {
     "name": "stdout",
     "output_type": "stream",
     "text": [
      "Height of the Image is: 190 Pixels\n",
      "Width of the Image is: 265 Pixels\n",
      "Channels in the Image are: 3\n"
     ]
    }
   ],
   "source": [
    "# Printing Height of the Image\n",
    "print(\"Height of the Image is: \" + str(pic.shape[0]) + \" Pixels\")\n",
    "\n",
    "# Printing Width of the Image\n",
    "print(\"Width of the Image is: \" + str(pic.shape[1]) + \" Pixels\")\n",
    "\n",
    "# Printing channels in the Image\n",
    "print(\"Channels in the Image are: \" + str(pic.shape[2]))"
   ]
  },
  {
   "cell_type": "code",
   "execution_count": 13,
   "metadata": {},
   "outputs": [
    {
     "data": {
      "text/plain": [
       "True"
      ]
     },
     "execution_count": 13,
     "metadata": {},
     "output_type": "execute_result"
    }
   ],
   "source": [
    "# Writing/Saving The Image\n",
    "# Here, I have used PNG format, but we can use any of the available formats.\n",
    "cv2.imwrite(\"output_image.png\", pic)"
   ]
  },
  {
   "cell_type": "markdown",
   "metadata": {},
   "source": [
    "# Hope you Liked It!"
   ]
  }
 ],
 "metadata": {
  "kernelspec": {
   "display_name": "Python 3",
   "language": "python",
   "name": "python3"
  },
  "language_info": {
   "codemirror_mode": {
    "name": "ipython",
    "version": 3
   },
   "file_extension": ".py",
   "mimetype": "text/x-python",
   "name": "python",
   "nbconvert_exporter": "python",
   "pygments_lexer": "ipython3",
   "version": "3.7.6"
  }
 },
 "nbformat": 4,
 "nbformat_minor": 4
}
