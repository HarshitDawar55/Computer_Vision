{
 "cells": [
  {
   "cell_type": "markdown",
   "metadata": {},
   "source": [
    "# <font color = \"Red\"> Converting an Coloured Image to grayscale using OpenCV </font> <font color = \"Greenn\"> *By Harshit Dawar* </font>\n",
    "\n",
    "- Grayscaling an imgae is the process of converting an coloured to black and white Image.\n",
    "- They are much easier to process.\n",
    "- Improve efficiency that is why many OpenCV functions require images to be grayscale for processing."
   ]
  },
  {
   "cell_type": "markdown",
   "metadata": {},
   "source": [
    "## Importing Required Libraries"
   ]
  },
  {
   "cell_type": "code",
   "execution_count": 1,
   "metadata": {},
   "outputs": [],
   "source": [
    "# To use OpenCV (OpenCV is imported as cv2)\n",
    "import cv2 "
   ]
  },
  {
   "cell_type": "markdown",
   "metadata": {},
   "source": [
    "## Actual Processing Begins!"
   ]
  },
  {
   "cell_type": "code",
   "execution_count": 3,
   "metadata": {},
   "outputs": [],
   "source": [
    "# Reading a Image through OpenCV \"imread\" function and stored it in variable named \"pic\".\n",
    "pic = cv2.imread(\"image.png\")\n",
    "\n",
    "# Using \"imshow\" funciton of OpenCV to show the image\n",
    "# Wallpaper is just an alias name given to the Image object, It is neccessary to give the name.\n",
    "cv2.imshow(\"wallpaper\",pic)\n",
    "\n",
    "# \"waitKey\" funciton will wait for the number of seconds passed as argument to it for closing the Image Window.\n",
    "cv2.waitKey()\n",
    "\n",
    "grayscale_image = cv2.cvtColor(pic, cv2.COLOR_BGR2GRAY)\n",
    "\n",
    "cv2.imshow(\"Grayscale\", grayscale_image)\n",
    "cv2.waitKey()\n",
    "cv2.destroyAllWindows()"
   ]
  },
  {
   "cell_type": "code",
   "execution_count": 4,
   "metadata": {},
   "outputs": [],
   "source": [
    "# Shortcut Code\n",
    "pic = cv2.imread(\"image.png\", 0)\n",
    "cv2.imshow(\"Grayscale\", pic)\n",
    "cv2.waitKey(0)\n",
    "cv2.destroyAllWindows()"
   ]
  },
  {
   "cell_type": "markdown",
   "metadata": {},
   "source": [
    "# Hope You Liked It!\n"
   ]
  }
 ],
 "metadata": {
  "kernelspec": {
   "display_name": "Python 3",
   "language": "python",
   "name": "python3"
  },
  "language_info": {
   "codemirror_mode": {
    "name": "ipython",
    "version": 3
   },
   "file_extension": ".py",
   "mimetype": "text/x-python",
   "name": "python",
   "nbconvert_exporter": "python",
   "pygments_lexer": "ipython3",
   "version": "3.7.6"
  }
 },
 "nbformat": 4,
 "nbformat_minor": 4
}
