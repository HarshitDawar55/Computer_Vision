{
 "cells": [
  {
   "cell_type": "markdown",
   "metadata": {},
   "source": [
    "# <font color = \"Red\"> HSV Colour Scheme </font> <font color = \"Greenn\"> *By Harshit Dawar* </font>\n",
    "- HSV stands for Hue Saturation Value.\n",
    "- Hue is the number of colours, its value ranges from 0 to 180.\n",
    "- Saturation of colours ranges from 0 to 255.\n",
    "- Value of colours ranegs from 0 to 255.\n",
    "- It is very useful in Photography.\n",
    "- It has somewhat less colours than RGB color Scheme.\n",
    "\n",
    "![title](HSV.png)"
   ]
  },
  {
   "cell_type": "markdown",
   "metadata": {},
   "source": [
    "## Importing Required Libraries\n",
    "\n"
   ]
  },
  {
   "cell_type": "code",
   "execution_count": 1,
   "metadata": {},
   "outputs": [],
   "source": [
    "# To use OpenCV (OpenCV is imported as cv2)\n",
    "import cv2 \n"
   ]
  },
  {
   "cell_type": "code",
   "execution_count": 2,
   "metadata": {},
   "outputs": [],
   "source": [
    "# Reading Image\n",
    "image = cv2.imread(\"image.png\")"
   ]
  },
  {
   "cell_type": "code",
   "execution_count": 4,
   "metadata": {},
   "outputs": [],
   "source": [
    "# Converting image into HSV color scheme.\n",
    "hsv_image = cv2.cvtColor(image, cv2.COLOR_BGR2HSV)\n",
    "\n",
    "cv2.imshow(\"HSV Image\", hsv_image)\n",
    "\n",
    "# Displaying height, width, and Hue channel from the image.\n",
    "cv2.imshow(\"Hue Channel\", hsv_image[:, :, 0])\n",
    "\n",
    "# Displaying height, width, and Saturation channel from the image.\n",
    "cv2.imshow(\"Saturation Channel\", hsv_image[:, :, 1])\n",
    "\n",
    "# Displaying height, width, and Value channel from the image.\n",
    "cv2.imshow(\"Value Channel\", hsv_image[:, :, 2])\n",
    "\n",
    "cv2.waitKey()\n",
    "cv2.destroyAllWindows()"
   ]
  },
  {
   "cell_type": "markdown",
   "metadata": {},
   "source": [
    "# Hope You Like It!"
   ]
  }
 ],
 "metadata": {
  "kernelspec": {
   "display_name": "Python 3",
   "language": "python",
   "name": "python3"
  },
  "language_info": {
   "codemirror_mode": {
    "name": "ipython",
    "version": 3
   },
   "file_extension": ".py",
   "mimetype": "text/x-python",
   "name": "python",
   "nbconvert_exporter": "python",
   "pygments_lexer": "ipython3",
   "version": "3.7.6"
  }
 },
 "nbformat": 4,
 "nbformat_minor": 4
}
